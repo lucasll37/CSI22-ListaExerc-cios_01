{
 "cells": [
  {
   "cell_type": "code",
   "execution_count": 140,
   "id": "8b323029",
   "metadata": {},
   "outputs": [],
   "source": [
    "#!pip install mobilechelonian\n",
    "from mobilechelonian import Turtle\n",
    "import numpy as np"
   ]
  },
  {
   "cell_type": "code",
   "execution_count": 141,
   "id": "59f32760",
   "metadata": {},
   "outputs": [
    {
     "name": "stdout",
     "output_type": "stream",
     "text": [
      "Author: Lucas silva Lima\n",
      "\n",
      "numpy: 1.21.5\n",
      "\n"
     ]
    }
   ],
   "source": [
    "# Versões dos pacotes usados neste jupyter notebook\n",
    "#!pip install watermark\n",
    "%reload_ext watermark\n",
    "%watermark -a \"Lucas silva Lima\" --iversions"
   ]
  },
  {
   "cell_type": "markdown",
   "id": "351e6e7c",
   "metadata": {},
   "source": [
    "### 1) Write a program to draw this. Assume the innermost square is 20 units per side, and each successive square is 20 units bigger, per side, than the one inside it."
   ]
  },
  {
   "cell_type": "code",
   "execution_count": 142,
   "id": "22a820ac",
   "metadata": {},
   "outputs": [
    {
     "data": {
      "application/vnd.jupyter.widget-view+json": {
       "model_id": "0c81451f58204d9ea91547eca7bdd21f",
       "version_major": 2,
       "version_minor": 0
      },
      "text/plain": [
       "Turtle()"
      ]
     },
     "metadata": {},
     "output_type": "display_data"
    }
   ],
   "source": [
    "turtle1 = Turtle()\n",
    "turtle1.speed(10)\n",
    "turtle1.home()\n",
    "\n",
    "\n",
    "def drawSquare(turtle, side, x, y):\n",
    "    turtle.penup()\n",
    "    turtle.home()\n",
    "    standarX = turtle.posX\n",
    "    standarY = turtle.posY\n",
    "    turtle.setposition(standarX-side/2, standarY+side/2)\n",
    "    turtle.pendown()\n",
    "    for i in range(4):\n",
    "        turtle.forward(side)\n",
    "        turtle.left(90)\n",
    " \n",
    "\n",
    "def exec1(turtle, square, sideBase):\n",
    "    for side in range(sideBase, sideBase * (square + 1), 20):\n",
    "        drawSquare(turtle, side, 0, 0)\n",
    "        \n",
    "\n",
    "exec1(turtle1, 5, 20)"
   ]
  },
  {
   "cell_type": "markdown",
   "id": "1837ee04",
   "metadata": {},
   "source": [
    "### 2) Write a void function `draw_poly(t, n, sz)` which makes a turtle draw a regular polygon."
   ]
  },
  {
   "cell_type": "code",
   "execution_count": 143,
   "id": "fc08935c",
   "metadata": {},
   "outputs": [
    {
     "data": {
      "application/vnd.jupyter.widget-view+json": {
       "model_id": "f40c489cd2b5430db502893dda864e34",
       "version_major": 2,
       "version_minor": 0
      },
      "text/plain": [
       "Turtle()"
      ]
     },
     "metadata": {},
     "output_type": "display_data"
    }
   ],
   "source": [
    "turtle2 = Turtle()\n",
    "turtle2.speed(10)\n",
    "# turtle2.setbearing(0)\n",
    "turtle2.home()\n",
    "        \n",
    "def draw_poly(turtle, n, side):\n",
    "    turtle.penup()\n",
    "    turtle.home()\n",
    "    standarX = turtle.posX\n",
    "    standarY = turtle.posY\n",
    "    posY = side/(2 * np.tan(np.pi/n))\n",
    "    turtle.setposition(standarX-side/2, standarY+posY)\n",
    "    turtle.pendown()\n",
    "    for i in range(n):\n",
    "        turtle.forward(side)\n",
    "        turtle.left(360/n)\n",
    "    \n",
    "draw_poly(turtle2, 8, 60)"
   ]
  },
  {
   "cell_type": "markdown",
   "id": "9faf77be",
   "metadata": {},
   "source": [
    "### 3) Write a fruitful function `sum_to(n)` that returns the sum of all integer numbers up to and including n. So `sum_to(10)` would be 1+2+3...+10 which would return the value 55."
   ]
  },
  {
   "cell_type": "code",
   "execution_count": 144,
   "id": "d0ab8eb8",
   "metadata": {},
   "outputs": [],
   "source": [
    "def sum_to(n):\n",
    "    return int(n*(n+1)/2)"
   ]
  },
  {
   "cell_type": "code",
   "execution_count": 145,
   "id": "b6db4d89",
   "metadata": {},
   "outputs": [
    {
     "data": {
      "text/plain": [
       "55"
      ]
     },
     "execution_count": 145,
     "metadata": {},
     "output_type": "execute_result"
    }
   ],
   "source": [
    "sum_to(10)"
   ]
  },
  {
   "cell_type": "markdown",
   "id": "da95a017",
   "metadata": {},
   "source": [
    "### 4) The two spirals in this picture differ only by the turn angle. Draw both."
   ]
  },
  {
   "cell_type": "code",
   "execution_count": 146,
   "id": "2c401e11",
   "metadata": {},
   "outputs": [
    {
     "data": {
      "application/vnd.jupyter.widget-view+json": {
       "model_id": "4740328c5edf42c789acb2c49192f5a8",
       "version_major": 2,
       "version_minor": 0
      },
      "text/plain": [
       "Turtle()"
      ]
     },
     "metadata": {},
     "output_type": "display_data"
    }
   ],
   "source": [
    "turtle4 = Turtle()\n",
    "turtle4.speed(10)\n",
    "turtle4.home()\n",
    "\n",
    "\n",
    "def drawSpiral(turtle):\n",
    "    turtle.penup()\n",
    "    turtle.home()\n",
    "    turtle.pendown()\n",
    "    size = 250\n",
    "    for i in range(1, size, 3):\n",
    "        turtle.forward(i)\n",
    "        turtle.left(90)\n",
    "\n",
    "drawSpiral(turtle4)"
   ]
  },
  {
   "cell_type": "code",
   "execution_count": 133,
   "id": "782879ac",
   "metadata": {},
   "outputs": [
    {
     "data": {
      "application/vnd.jupyter.widget-view+json": {
       "model_id": "5cf7b6eeec3b4c5d94dd9e22b657ca5c",
       "version_major": 2,
       "version_minor": 0
      },
      "text/plain": [
       "Turtle()"
      ]
     },
     "metadata": {},
     "output_type": "display_data"
    }
   ],
   "source": [
    "turtle5 = Turtle()\n",
    "turtle5.speed(10)\n",
    "turtle5.home()\n",
    "\n",
    "\n",
    "def drawSpiral(turtle):\n",
    "    turtle.penup()\n",
    "    turtle.home()\n",
    "    turtle.pendown()\n",
    "    size = 250\n",
    "    for i in range(1, size, 3):\n",
    "        turtle.forward(i)\n",
    "        turtle.left(91)\n",
    "\n",
    "drawSpiral(turtle5)"
   ]
  }
 ],
 "metadata": {
  "kernelspec": {
   "display_name": "Python 3 (ipykernel)",
   "language": "python",
   "name": "python3"
  },
  "language_info": {
   "codemirror_mode": {
    "name": "ipython",
    "version": 3
   },
   "file_extension": ".py",
   "mimetype": "text/x-python",
   "name": "python",
   "nbconvert_exporter": "python",
   "pygments_lexer": "ipython3",
   "version": "3.9.13"
  }
 },
 "nbformat": 4,
 "nbformat_minor": 5
}
